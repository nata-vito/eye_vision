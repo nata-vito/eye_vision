{
 "cells": [
  {
   "cell_type": "code",
   "execution_count": 1,
   "metadata": {},
   "outputs": [
    {
     "name": "stderr",
     "output_type": "stream",
     "text": [
      "2023-08-31 10:13:20.040519: I tensorflow/core/platform/cpu_feature_guard.cc:182] This TensorFlow binary is optimized to use available CPU instructions in performance-critical operations.\n",
      "To enable the following instructions: AVX2 FMA, in other operations, rebuild TensorFlow with the appropriate compiler flags.\n"
     ]
    }
   ],
   "source": [
    "import cv2 as cv\n",
    "import numpy as np\n",
    "import matplotlib.pyplot as plt\n",
    "from mediapipe import solutions\n",
    "from mediapipe.framework.formats import landmark_pb2\n",
    "\n",
    "def draw_landmarks_on_image(rgb_image, detection_result):\n",
    "  face_landmarks_list = detection_result.face_landmarks\n",
    "  annotated_image = np.copy(rgb_image)\n",
    "\n",
    "  # Loop through the detected faces to visualize.\n",
    "  for idx in range(len(face_landmarks_list)):\n",
    "    face_landmarks = face_landmarks_list[idx]\n",
    "\n",
    "    # Draw the face landmarks.\n",
    "    face_landmarks_proto = landmark_pb2.NormalizedLandmarkList()\n",
    "    face_landmarks_proto.landmark.extend([\n",
    "      landmark_pb2.NormalizedLandmark(x=landmark.x, y=landmark.y, z=landmark.z) for landmark in face_landmarks\n",
    "    ])\n",
    "\n",
    "    solutions.drawing_utils.draw_landmarks(\n",
    "        image = annotated_image,\n",
    "        landmark_list = face_landmarks_proto,\n",
    "        connections = solutions.face_mesh.FACEMESH_TESSELATION,\n",
    "        landmark_drawing_spec = None,\n",
    "        connection_drawing_spec = solutions.drawing_styles\n",
    "        .get_default_face_mesh_tesselation_style())\n",
    "    solutions.drawing_utils.draw_landmarks(\n",
    "        image = annotated_image,\n",
    "        landmark_list = face_landmarks_proto,\n",
    "        connections = solutions.face_mesh.FACEMESH_CONTOURS,\n",
    "        landmark_drawing_spec = None,\n",
    "        connection_drawing_spec = solutions.drawing_styles\n",
    "        .get_default_face_mesh_contours_style())\n",
    "    solutions.drawing_utils.draw_landmarks(\n",
    "        image = annotated_image,\n",
    "        landmark_list = face_landmarks_proto,\n",
    "        connections = solutions.face_mesh.FACEMESH_IRISES,\n",
    "          landmark_drawing_spec = None,\n",
    "          connection_drawing_spec = solutions.drawing_styles\n",
    "          .get_default_face_mesh_iris_connections_style())\n",
    "\n",
    "  return annotated_image\n",
    "\n",
    "def plot_face_blendshapes_bar_graph(face_blendshapes):\n",
    "  # Extract the face blendshapes category names and scores.\n",
    "  face_blendshapes_names = [face_blendshapes_category.category_name for face_blendshapes_category in face_blendshapes]\n",
    "  face_blendshapes_scores = [face_blendshapes_category.score for face_blendshapes_category in face_blendshapes]\n",
    "  # The blendshapes are ordered in decreasing score value.\n",
    "  face_blendshapes_ranks = range(len(face_blendshapes_names))\n",
    "\n",
    "  fig, ax = plt.subplots(figsize=(12, 12))\n",
    "  bar = ax.barh(face_blendshapes_ranks, face_blendshapes_scores, label=[str(x) for x in face_blendshapes_ranks])\n",
    "  ax.set_yticks(face_blendshapes_ranks, face_blendshapes_names)\n",
    "  ax.invert_yaxis()\n",
    "\n",
    "  # Label each bar with values\n",
    "  for score, patch in zip(face_blendshapes_scores, bar.patches):\n",
    "    plt.text(patch.get_x() + patch.get_width(), patch.get_y(), f\"{score:.4f}\", va=\"top\")\n",
    "\n",
    "  ax.set_xlabel('Score')\n",
    "  ax.set_title(\"Face Blendshapes\")\n",
    "  plt.tight_layout()\n",
    "  plt.show()"
   ]
  },
  {
   "cell_type": "code",
   "execution_count": 10,
   "metadata": {},
   "outputs": [
    {
     "name": "stderr",
     "output_type": "stream",
     "text": [
      "W20230831 10:30:47.959283 208058 face_landmarker_graph.cc:168] Face blendshape model contains CPU only ops. Sets FaceBlendshapesGraph acceleration to Xnnpack.\n"
     ]
    },
    {
     "ename": "ValueError",
     "evalue": "Please provide 'image_format' with 'data'.",
     "output_type": "error",
     "traceback": [
      "\u001b[0;31m---------------------------------------------------------------------------\u001b[0m",
      "\u001b[0;31mValueError\u001b[0m                                Traceback (most recent call last)",
      "Cell \u001b[0;32mIn[10], line 26\u001b[0m\n\u001b[1;32m     20\u001b[0m key \u001b[39m=\u001b[39m cv\u001b[39m.\u001b[39mwaitKey(\u001b[39m1\u001b[39m)\n\u001b[1;32m     22\u001b[0m \u001b[39m# STEP 3: Load the input image.\u001b[39;00m\n\u001b[1;32m     23\u001b[0m \u001b[39m#image = mp.Image(frame)\u001b[39;00m\n\u001b[1;32m     24\u001b[0m \n\u001b[1;32m     25\u001b[0m \u001b[39m# STEP 4: Detect face landmarks from the input image.\u001b[39;00m\n\u001b[0;32m---> 26\u001b[0m detection_result \u001b[39m=\u001b[39m detector\u001b[39m.\u001b[39;49mdetect(frame)\n\u001b[1;32m     28\u001b[0m \u001b[39m# STEP 5: Process the detection result. In this case, visualize it.\u001b[39;00m\n\u001b[1;32m     29\u001b[0m annotated_image \u001b[39m=\u001b[39m draw_landmarks_on_image(frame\u001b[39m.\u001b[39mnumpy_view(), detection_result)\n",
      "File \u001b[0;32m~/miniconda3/envs/eyegaze/lib/python3.9/site-packages/mediapipe/tasks/python/vision/face_landmarker.py:3142\u001b[0m, in \u001b[0;36mFaceLandmarker.detect\u001b[0;34m(self, image, image_processing_options)\u001b[0m\n\u001b[1;32m   3118\u001b[0m \u001b[39m\u001b[39m\u001b[39m\"\"\"Performs face landmarks detection on the given image.\u001b[39;00m\n\u001b[1;32m   3119\u001b[0m \n\u001b[1;32m   3120\u001b[0m \u001b[39mOnly use this method when the FaceLandmarker is created with the image\u001b[39;00m\n\u001b[0;32m   (...)\u001b[0m\n\u001b[1;32m   3136\u001b[0m \u001b[39m  RuntimeError: If face landmarker detection failed to run.\u001b[39;00m\n\u001b[1;32m   3137\u001b[0m \u001b[39m\"\"\"\u001b[39;00m\n\u001b[1;32m   3138\u001b[0m normalized_rect \u001b[39m=\u001b[39m \u001b[39mself\u001b[39m\u001b[39m.\u001b[39mconvert_to_normalized_rect(\n\u001b[1;32m   3139\u001b[0m     image_processing_options, image, roi_allowed\u001b[39m=\u001b[39m\u001b[39mFalse\u001b[39;00m\n\u001b[1;32m   3140\u001b[0m )\n\u001b[1;32m   3141\u001b[0m output_packets \u001b[39m=\u001b[39m \u001b[39mself\u001b[39m\u001b[39m.\u001b[39m_process_image_data({\n\u001b[0;32m-> 3142\u001b[0m     _IMAGE_IN_STREAM_NAME: packet_creator\u001b[39m.\u001b[39;49mcreate_image(image),\n\u001b[1;32m   3143\u001b[0m     _NORM_RECT_STREAM_NAME: packet_creator\u001b[39m.\u001b[39mcreate_proto(\n\u001b[1;32m   3144\u001b[0m         normalized_rect\u001b[39m.\u001b[39mto_pb2()\n\u001b[1;32m   3145\u001b[0m     ),\n\u001b[1;32m   3146\u001b[0m })\n\u001b[1;32m   3148\u001b[0m \u001b[39mif\u001b[39;00m output_packets[_NORM_LANDMARKS_STREAM_NAME]\u001b[39m.\u001b[39mis_empty():\n\u001b[1;32m   3149\u001b[0m   \u001b[39mreturn\u001b[39;00m FaceLandmarkerResult([], [], [])\n",
      "File \u001b[0;32m~/miniconda3/envs/eyegaze/lib/python3.9/site-packages/mediapipe/python/packet_creator.py:229\u001b[0m, in \u001b[0;36mcreate_image\u001b[0;34m(data, image_format, copy)\u001b[0m\n\u001b[1;32m    226\u001b[0m   \u001b[39m# pylint:enable=protected-access\u001b[39;00m\n\u001b[1;32m    227\u001b[0m \u001b[39melse\u001b[39;00m:\n\u001b[1;32m    228\u001b[0m   \u001b[39mif\u001b[39;00m image_format \u001b[39mis\u001b[39;00m \u001b[39mNone\u001b[39;00m:\n\u001b[0;32m--> 229\u001b[0m     \u001b[39mraise\u001b[39;00m \u001b[39mValueError\u001b[39;00m(\u001b[39m'\u001b[39m\u001b[39mPlease provide \u001b[39m\u001b[39m\\'\u001b[39;00m\u001b[39mimage_format\u001b[39m\u001b[39m\\'\u001b[39;00m\u001b[39m with \u001b[39m\u001b[39m\\'\u001b[39;00m\u001b[39mdata\u001b[39m\u001b[39m\\'\u001b[39;00m\u001b[39m.\u001b[39m\u001b[39m'\u001b[39m)\n\u001b[1;32m    230\u001b[0m   \u001b[39m# If copy arg is not set, copying the data if it's immutable. Otherwise,\u001b[39;00m\n\u001b[1;32m    231\u001b[0m   \u001b[39m# take a reference of the immutable data to avoid data copy.\u001b[39;00m\n\u001b[1;32m    232\u001b[0m   \u001b[39mif\u001b[39;00m copy \u001b[39mis\u001b[39;00m \u001b[39mNone\u001b[39;00m:\n",
      "\u001b[0;31mValueError\u001b[0m: Please provide 'image_format' with 'data'."
     ]
    }
   ],
   "source": [
    "\n",
    "\n",
    "# STEP 1: Import the necessary modules.\n",
    "import cv2 as cv\n",
    "import mediapipe as mp\n",
    "from mediapipe.tasks import python\n",
    "from mediapipe.tasks.python import vision\n",
    "\n",
    "# STEP 2: Create an FaceLandmarker object.\n",
    "base_options = python.BaseOptions(model_asset_path='face_landmarker_v2_with_blendshapes.task')\n",
    "options = vision.FaceLandmarkerOptions(base_options=base_options,\n",
    "                                       output_face_blendshapes=True,\n",
    "                                       output_facial_transformation_matrixes=True,\n",
    "                                       num_faces=1)\n",
    "detector = vision.FaceLandmarker.create_from_options(options)\n",
    "\n",
    "cap = cv.VideoCapture(1)\n",
    "\n",
    "while True:\n",
    "    ret, frame = cap.read()\n",
    "    \n",
    "    key = cv.waitKey(1)\n",
    "    \n",
    "    # STEP 3: Load the input image.\n",
    "    #image = mp.Image(frame)\n",
    "    \n",
    "    # STEP 4: Detect face landmarks from the input image.\n",
    "    detection_result = detector.detect(frame)\n",
    "    \n",
    "    # STEP 5: Process the detection result. In this case, visualize it.\n",
    "    annotated_image = draw_landmarks_on_image(frame.numpy_view(), detection_result)\n",
    "    \n",
    "    if key == ord('q'):\n",
    "        break\n",
    "\n",
    "    cv.imshow(cv.cvtColor(annotated_image, cv.COLOR_RGB2BGR))\n",
    "\n",
    "cap.release()\n",
    "cv.destroyAllWindows()"
   ]
  },
  {
   "cell_type": "code",
   "execution_count": 12,
   "metadata": {},
   "outputs": [],
   "source": [
    "import cv2 as cv\n",
    "\n",
    "cap = cv.VideoCapture(1)\n",
    "\n",
    "while True:\n",
    "    ret, frame = cap.read()\n",
    "    \n",
    "    key = cv.waitKey(1)\n",
    "    #frame = draw_landmarks_on_image(frame)\n",
    "    if key == ord('q'):\n",
    "        break\n",
    "\n",
    "    cv.imshow('Interface', frame)\n",
    "    \n",
    "cap.release()\n",
    "cv.destroyAllWindows()"
   ]
  },
  {
   "cell_type": "code",
   "execution_count": null,
   "metadata": {},
   "outputs": [],
   "source": []
  }
 ],
 "metadata": {
  "kernelspec": {
   "display_name": "eyegaze",
   "language": "python",
   "name": "python3"
  },
  "language_info": {
   "codemirror_mode": {
    "name": "ipython",
    "version": 3
   },
   "file_extension": ".py",
   "mimetype": "text/x-python",
   "name": "python",
   "nbconvert_exporter": "python",
   "pygments_lexer": "ipython3",
   "version": "3.9.16"
  },
  "orig_nbformat": 4
 },
 "nbformat": 4,
 "nbformat_minor": 2
}
